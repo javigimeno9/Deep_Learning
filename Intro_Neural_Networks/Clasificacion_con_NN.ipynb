{
  "cells": [
    {
      "cell_type": "code",
      "execution_count": null,
      "metadata": {
        "id": "-G0Emo6Nlhzu"
      },
      "outputs": [],
      "source": [
        "import tensorflow"
      ]
    },
    {
      "cell_type": "code",
      "execution_count": null,
      "metadata": {
        "id": "FtJQO_melhzv"
      },
      "outputs": [],
      "source": [
        "import matplotlib.pyplot as plt"
      ]
    },
    {
      "cell_type": "code",
      "execution_count": null,
      "metadata": {
        "id": "LUKignU_5G_W"
      },
      "outputs": [],
      "source": [
        "from tensorflow import keras\n",
        "#keras.__version__"
      ]
    },
    {
      "cell_type": "markdown",
      "metadata": {
        "id": "PD6NMRfw5G_c"
      },
      "source": [
        "# A first look at a neural network\n",
        "\n",
        "This notebook contains the code samples found in Chapter 2, Section 1 of [Deep Learning with Python](https://www.manning.com/books/deep-learning-with-python?a_aid=keras&a_bid=76564dff). Note that the original text features far more content, in particular further explanations and figures: in this notebook, you will only find source code and related comments.\n",
        "\n",
        "----\n",
        "\n",
        "We will now take a look at a first concrete example of a neural network, which makes use of the Python library Keras to learn to classify\n",
        "hand-written digits. Unless you already have experience with Keras or similar libraries, you will not understand everything about this\n",
        "first example right away. You probably haven't even installed Keras yet. Don't worry, that is perfectly fine. In the next chapter, we will\n",
        "review each element in our example and explain them in detail. So don't worry if some steps seem arbitrary or look like magic to you!\n",
        "We've got to start somewhere.\n",
        "\n",
        "The problem we are trying to solve here is to classify grayscale images of handwritten digits (28 pixels by 28 pixels), into their 10\n",
        "categories (0 to 9). The dataset we will use is the MNIST dataset, a classic dataset in the machine learning community, which has been\n",
        "around for almost as long as the field itself and has been very intensively studied. It's a set of 60,000 training images, plus 10,000 test\n",
        "images, assembled by the National Institute of Standards and Technology (the NIST in MNIST) in the 1980s. You can think of \"solving\" MNIST\n",
        "as the \"Hello World\" of deep learning -- it's what you do to verify that your algorithms are working as expected. As you become a machine\n",
        "learning practitioner, you will see MNIST come up over and over again, in scientific papers, blog posts, and so on."
      ]
    },
    {
      "cell_type": "markdown",
      "metadata": {
        "id": "xc-AbB185G_d"
      },
      "source": [
        "The MNIST dataset comes pre-loaded in Keras, in the form of a set of four Numpy arrays:"
      ]
    },
    {
      "cell_type": "code",
      "execution_count": null,
      "metadata": {
        "id": "hxWKB-hp5G_e",
        "colab": {
          "base_uri": "https://localhost:8080/"
        },
        "outputId": "fa88ebbb-f906-4ed0-aa53-54103dd3fbf7"
      },
      "outputs": [
        {
          "output_type": "stream",
          "name": "stdout",
          "text": [
            "Downloading data from https://storage.googleapis.com/tensorflow/tf-keras-datasets/mnist.npz\n",
            "11490434/11490434 [==============================] - 0s 0us/step\n"
          ]
        }
      ],
      "source": [
        "from keras.datasets import mnist\n",
        "\n",
        "(train_images, train_labels), (test_images, test_labels) = mnist.load_data()"
      ]
    },
    {
      "cell_type": "markdown",
      "metadata": {
        "id": "B7mA6OXw5G_g"
      },
      "source": [
        "`train_images` and `train_labels` form the \"training set\", the data that the model will learn from. The model will then be tested on the\n",
        "\"test set\", `test_images` and `test_labels`. Our images are encoded as Numpy arrays, and the labels are simply an array of digits, ranging\n",
        "from 0 to 9. There is a one-to-one correspondence between the images and the labels.\n",
        "\n",
        "Let's have a look at the training data:"
      ]
    },
    {
      "cell_type": "code",
      "execution_count": null,
      "metadata": {
        "id": "HwGg3BeK5G_h",
        "outputId": "cccaa567-e2a7-4cfa-8b87-98f48a659ec7",
        "colab": {
          "base_uri": "https://localhost:8080/"
        }
      },
      "outputs": [
        {
          "output_type": "execute_result",
          "data": {
            "text/plain": [
              "(60000, 28, 28)"
            ]
          },
          "metadata": {},
          "execution_count": 5
        }
      ],
      "source": [
        "train_images.shape"
      ]
    },
    {
      "cell_type": "code",
      "execution_count": null,
      "metadata": {
        "id": "dm-775fV5G_k",
        "outputId": "e7516ba3-5dae-4010-fde6-4b4519a1df52",
        "colab": {
          "base_uri": "https://localhost:8080/"
        }
      },
      "outputs": [
        {
          "output_type": "execute_result",
          "data": {
            "text/plain": [
              "60000"
            ]
          },
          "metadata": {},
          "execution_count": 6
        }
      ],
      "source": [
        "len(train_labels)"
      ]
    },
    {
      "cell_type": "code",
      "execution_count": null,
      "metadata": {
        "id": "w794b3AJ5G_n",
        "outputId": "2b101881-0aea-4f96-96d5-d57d9abcec1b",
        "colab": {
          "base_uri": "https://localhost:8080/"
        }
      },
      "outputs": [
        {
          "output_type": "execute_result",
          "data": {
            "text/plain": [
              "array([5, 0, 4, ..., 5, 6, 8], dtype=uint8)"
            ]
          },
          "metadata": {},
          "execution_count": 7
        }
      ],
      "source": [
        "train_labels"
      ]
    },
    {
      "cell_type": "markdown",
      "metadata": {
        "id": "mM9XfHbN5G_q"
      },
      "source": [
        "Let's have a look at the test data:"
      ]
    },
    {
      "cell_type": "code",
      "execution_count": null,
      "metadata": {
        "id": "LvtLANfu5G_r",
        "outputId": "c4f408e7-3f05-45f0-a782-8613e6560636",
        "colab": {
          "base_uri": "https://localhost:8080/"
        }
      },
      "outputs": [
        {
          "output_type": "execute_result",
          "data": {
            "text/plain": [
              "(10000, 28, 28)"
            ]
          },
          "metadata": {},
          "execution_count": 8
        }
      ],
      "source": [
        "test_images.shape"
      ]
    },
    {
      "cell_type": "code",
      "execution_count": null,
      "metadata": {
        "id": "fByHEasm5G_t",
        "outputId": "87044709-e203-4cef-bb4c-1ade7a2bca34",
        "colab": {
          "base_uri": "https://localhost:8080/"
        }
      },
      "outputs": [
        {
          "output_type": "execute_result",
          "data": {
            "text/plain": [
              "10000"
            ]
          },
          "metadata": {},
          "execution_count": 9
        }
      ],
      "source": [
        "len(test_labels)"
      ]
    },
    {
      "cell_type": "code",
      "execution_count": null,
      "metadata": {
        "id": "uLGxTC2i5G_w",
        "outputId": "70f38d91-869b-4e6e-823e-11d607fbbea0",
        "colab": {
          "base_uri": "https://localhost:8080/"
        }
      },
      "outputs": [
        {
          "output_type": "execute_result",
          "data": {
            "text/plain": [
              "array([7, 2, 1, ..., 4, 5, 6], dtype=uint8)"
            ]
          },
          "metadata": {},
          "execution_count": 10
        }
      ],
      "source": [
        "test_labels"
      ]
    },
    {
      "cell_type": "markdown",
      "metadata": {
        "id": "li---KHz5G_0"
      },
      "source": [
        "Our workflow will be as follow: first we will present our neural network with the training data, `train_images` and `train_labels`. The\n",
        "network will then learn to associate images and labels. Finally, we will ask the network to produce predictions for `test_images`, and we\n",
        "will verify if these predictions match the labels from `test_labels`.\n",
        "\n",
        "Let's build our network -- again, remember that you aren't supposed to understand everything about this example just yet.\n",
        "\n",
        "\n"
      ]
    },
    {
      "cell_type": "markdown",
      "metadata": {
        "id": "hooP6iQm-SSP"
      },
      "source": [
        "The argument supported by Dense layer is as follows (more info https://keras.io/api/layers/core_layers/dense/):\n",
        "\n",
        "\n",
        "\n",
        "\n",
        "*  **units** represent the number of units and it affects the output layer.\n",
        "\n",
        "*  **activation** represents the activation function.\n",
        "\n",
        "*  **use_bias** represents whether the layer uses a bias vector.\n",
        "\n",
        "*  **kernel_initializer** represents the initializer to be used for kernel.\n",
        "\n",
        "*  **bias_initializer** represents the initializer to be used for the bias vector.\n",
        "\n",
        "*  **kernel_regularizer** represents the regularizer function to be applied to the kernel weights matrix.\n",
        "\n",
        "*  **bias_regularizer** represents the regularizer function to be applied to the bias vector.\n",
        "\n",
        "*  **activity_regularizer** represents the regularizer function tp be applied to the output of the layer.\n",
        "\n",
        "*  **kernel_constraint** represent constraint function to be applied to the kernel weights matrix.\n",
        "\n",
        "*  **bias_constraint** represent constraint function to be applied to the bias vector.\n",
        "\n",
        "\n",
        "\n",
        "\n",
        "\n",
        "\n",
        "\n"
      ]
    },
    {
      "cell_type": "code",
      "execution_count": null,
      "metadata": {
        "id": "4bx3P81c5G_1"
      },
      "outputs": [],
      "source": [
        "from keras import models\n",
        "from keras import layers\n",
        "\n",
        "network = models.Sequential()\n",
        "network.add(layers.Dense(512, activation='relu', input_shape=(28 * 28,)))\n",
        "\n",
        "network.add(layers.Dense(10, activation='softmax'))"
      ]
    },
    {
      "cell_type": "markdown",
      "metadata": {
        "id": "uCV_9Y5Y5G_3"
      },
      "source": [
        "\n",
        "The core building block of neural networks is the \"layer\", a data-processing module which you can conceive as a \"filter\" for data. Some\n",
        "data comes in, and comes out in a more useful form. Precisely, layers extract _representations_ out of the data fed into them -- hopefully\n",
        "representations that are more meaningful for the problem at hand. Most of deep learning really consists of chaining together simple layers\n",
        "which will implement a form of progressive \"data distillation\". A deep learning model is like a sieve for data processing, made of a\n",
        "succession of increasingly refined data filters -- the \"layers\".\n",
        "\n",
        "Here our network consists of a **sequence of two `Dense` layers, which are densely-connected (also called \"fully-connected\") neural layers. **\n",
        "The second (and last) layer is a** 10-way \"softmax\" layer, which means it will return an array of 10 probability scores (summing to 1)**. Each\n",
        "score will be the probability that the current digit image belongs to one of our 10 digit classes.\n",
        "\n",
        "To make our network ready for training, we need to pick three more things, as part of \"compilation\" step:\n",
        "\n",
        "* A loss function: the is how the network will be able to measure how good a job it is doing on its training data, and thus how it will be\n",
        "able to steer itself in the right direction.\n",
        "* An optimizer: this is the mechanism through which the network will update itself based on the data it sees and its loss function.\n",
        "* Metrics to monitor during training and testing. Here we will only care about accuracy (the fraction of the images that were correctly\n",
        "classified).\n",
        "\n",
        "The exact purpose of the loss function and the optimizer will be made clear throughout the next two chapters."
      ]
    },
    {
      "cell_type": "code",
      "execution_count": null,
      "metadata": {
        "id": "nX14TJqC5G_4"
      },
      "outputs": [],
      "source": [
        "network.compile(optimizer='sgd',\n",
        "                loss='categorical_crossentropy',\n",
        "                metrics=['accuracy'])"
      ]
    },
    {
      "cell_type": "markdown",
      "metadata": {
        "id": "MGlYB5WF5G_6"
      },
      "source": [
        "\n",
        "Before training, we will preprocess our data by reshaping it into the shape that the network expects, and scaling it so that all values are in\n",
        "the `[0, 1]` interval. Previously, our training images for instance were stored in an array of shape `(60000, 28, 28)` of type `uint8` with\n",
        "values in the `[0, 255]` interval. We transform it into a `float32` array of shape `(60000, 28 * 28)` with values between 0 and 1."
      ]
    },
    {
      "cell_type": "code",
      "execution_count": null,
      "metadata": {
        "id": "YoFY9-O15G_7"
      },
      "outputs": [],
      "source": [
        "train_images = train_images.reshape((60000, 28 * 28))\n",
        "train_images = train_images.astype('float32') / 255\n",
        "\n",
        "test_images = test_images.reshape((10000, 28 * 28))\n",
        "test_images = test_images.astype('float32') / 255"
      ]
    },
    {
      "cell_type": "code",
      "source": [
        "train_images"
      ],
      "metadata": {
        "colab": {
          "base_uri": "https://localhost:8080/"
        },
        "id": "jpuJRU7SYx-j",
        "outputId": "20ca151f-83cb-4908-db65-24f07c3f8a65"
      },
      "execution_count": null,
      "outputs": [
        {
          "output_type": "execute_result",
          "data": {
            "text/plain": [
              "array([[0., 0., 0., ..., 0., 0., 0.],\n",
              "       [0., 0., 0., ..., 0., 0., 0.],\n",
              "       [0., 0., 0., ..., 0., 0., 0.],\n",
              "       ...,\n",
              "       [0., 0., 0., ..., 0., 0., 0.],\n",
              "       [0., 0., 0., ..., 0., 0., 0.],\n",
              "       [0., 0., 0., ..., 0., 0., 0.]], dtype=float32)"
            ]
          },
          "metadata": {},
          "execution_count": 14
        }
      ]
    },
    {
      "cell_type": "markdown",
      "metadata": {
        "id": "Whcm1oTh5G_9"
      },
      "source": [
        "We also need to categorically encode the labels, a step which we explain in chapter 3:"
      ]
    },
    {
      "cell_type": "code",
      "execution_count": null,
      "metadata": {
        "id": "tZPefnVB5G_9"
      },
      "outputs": [],
      "source": [
        "from keras.utils import to_categorical\n",
        "\n",
        "train_labels = to_categorical(train_labels)\n",
        "test_labels = to_categorical(test_labels)"
      ]
    },
    {
      "cell_type": "markdown",
      "metadata": {
        "id": "TAp0CZ0L5HAA"
      },
      "source": [
        "We are now ready to train our network, which in Keras is done via a call to the `fit` method of the network:\n",
        "we \"fit\" the model to its training data."
      ]
    },
    {
      "cell_type": "code",
      "execution_count": null,
      "metadata": {
        "id": "cGE66GR55HAB",
        "outputId": "628c68af-d1c6-48bd-c8bd-ca300223da05",
        "scrolled": true,
        "colab": {
          "base_uri": "https://localhost:8080/"
        }
      },
      "outputs": [
        {
          "output_type": "stream",
          "name": "stdout",
          "text": [
            "Epoch 1/100\n",
            "469/469 [==============================] - 13s 24ms/step - loss: 1.1066 - accuracy: 0.7538 - val_loss: 0.5980 - val_accuracy: 0.8673\n",
            "Epoch 2/100\n",
            "469/469 [==============================] - 11s 23ms/step - loss: 0.5200 - accuracy: 0.8730 - val_loss: 0.4321 - val_accuracy: 0.8898\n",
            "Epoch 3/100\n",
            "469/469 [==============================] - 8s 16ms/step - loss: 0.4193 - accuracy: 0.8900 - val_loss: 0.3737 - val_accuracy: 0.9014\n",
            "Epoch 4/100\n",
            "469/469 [==============================] - 4s 9ms/step - loss: 0.3739 - accuracy: 0.8987 - val_loss: 0.3407 - val_accuracy: 0.9075\n",
            "Epoch 5/100\n",
            "469/469 [==============================] - 5s 11ms/step - loss: 0.3460 - accuracy: 0.9049 - val_loss: 0.3194 - val_accuracy: 0.9118\n",
            "Epoch 6/100\n",
            "469/469 [==============================] - 4s 8ms/step - loss: 0.3263 - accuracy: 0.9094 - val_loss: 0.3040 - val_accuracy: 0.9149\n",
            "Epoch 7/100\n",
            "469/469 [==============================] - 4s 9ms/step - loss: 0.3106 - accuracy: 0.9136 - val_loss: 0.2924 - val_accuracy: 0.9180\n",
            "Epoch 8/100\n",
            "469/469 [==============================] - 5s 10ms/step - loss: 0.2979 - accuracy: 0.9168 - val_loss: 0.2807 - val_accuracy: 0.9204\n",
            "Epoch 9/100\n",
            "469/469 [==============================] - 4s 8ms/step - loss: 0.2868 - accuracy: 0.9195 - val_loss: 0.2718 - val_accuracy: 0.9227\n",
            "Epoch 10/100\n",
            "469/469 [==============================] - 4s 8ms/step - loss: 0.2771 - accuracy: 0.9226 - val_loss: 0.2637 - val_accuracy: 0.9255\n",
            "Epoch 11/100\n",
            "469/469 [==============================] - 5s 10ms/step - loss: 0.2683 - accuracy: 0.9253 - val_loss: 0.2562 - val_accuracy: 0.9276\n",
            "Epoch 12/100\n",
            "469/469 [==============================] - 4s 8ms/step - loss: 0.2602 - accuracy: 0.9273 - val_loss: 0.2494 - val_accuracy: 0.9293\n",
            "Epoch 13/100\n",
            "469/469 [==============================] - 4s 8ms/step - loss: 0.2529 - accuracy: 0.9294 - val_loss: 0.2435 - val_accuracy: 0.9328\n",
            "Epoch 14/100\n",
            "469/469 [==============================] - 5s 10ms/step - loss: 0.2461 - accuracy: 0.9310 - val_loss: 0.2369 - val_accuracy: 0.9345\n",
            "Epoch 15/100\n",
            "469/469 [==============================] - 4s 9ms/step - loss: 0.2396 - accuracy: 0.9338 - val_loss: 0.2323 - val_accuracy: 0.9346\n",
            "Epoch 16/100\n",
            "469/469 [==============================] - 4s 8ms/step - loss: 0.2336 - accuracy: 0.9352 - val_loss: 0.2267 - val_accuracy: 0.9363\n",
            "Epoch 17/100\n",
            "469/469 [==============================] - 5s 11ms/step - loss: 0.2280 - accuracy: 0.9368 - val_loss: 0.2219 - val_accuracy: 0.9377\n",
            "Epoch 18/100\n",
            "469/469 [==============================] - 4s 8ms/step - loss: 0.2225 - accuracy: 0.9383 - val_loss: 0.2176 - val_accuracy: 0.9381\n",
            "Epoch 19/100\n",
            "469/469 [==============================] - 4s 8ms/step - loss: 0.2173 - accuracy: 0.9398 - val_loss: 0.2131 - val_accuracy: 0.9405\n",
            "Epoch 20/100\n",
            "469/469 [==============================] - 5s 10ms/step - loss: 0.2125 - accuracy: 0.9413 - val_loss: 0.2080 - val_accuracy: 0.9421\n",
            "Epoch 21/100\n",
            "469/469 [==============================] - 4s 8ms/step - loss: 0.2079 - accuracy: 0.9425 - val_loss: 0.2043 - val_accuracy: 0.9423\n",
            "Epoch 22/100\n",
            "469/469 [==============================] - 4s 8ms/step - loss: 0.2035 - accuracy: 0.9438 - val_loss: 0.2008 - val_accuracy: 0.9437\n",
            "Epoch 23/100\n",
            "469/469 [==============================] - 5s 10ms/step - loss: 0.1992 - accuracy: 0.9452 - val_loss: 0.1970 - val_accuracy: 0.9433\n",
            "Epoch 24/100\n",
            "469/469 [==============================] - 4s 8ms/step - loss: 0.1950 - accuracy: 0.9461 - val_loss: 0.1929 - val_accuracy: 0.9443\n",
            "Epoch 25/100\n",
            "469/469 [==============================] - 4s 8ms/step - loss: 0.1912 - accuracy: 0.9470 - val_loss: 0.1902 - val_accuracy: 0.9451\n",
            "Epoch 26/100\n",
            "469/469 [==============================] - 5s 10ms/step - loss: 0.1874 - accuracy: 0.9485 - val_loss: 0.1865 - val_accuracy: 0.9461\n",
            "Epoch 27/100\n",
            "469/469 [==============================] - 4s 8ms/step - loss: 0.1837 - accuracy: 0.9496 - val_loss: 0.1835 - val_accuracy: 0.9468\n",
            "Epoch 28/100\n",
            "469/469 [==============================] - 5s 10ms/step - loss: 0.1804 - accuracy: 0.9499 - val_loss: 0.1803 - val_accuracy: 0.9475\n",
            "Epoch 29/100\n",
            "469/469 [==============================] - 5s 11ms/step - loss: 0.1770 - accuracy: 0.9508 - val_loss: 0.1781 - val_accuracy: 0.9485\n",
            "Epoch 30/100\n",
            "469/469 [==============================] - 4s 8ms/step - loss: 0.1739 - accuracy: 0.9517 - val_loss: 0.1744 - val_accuracy: 0.9493\n",
            "Epoch 31/100\n",
            "469/469 [==============================] - 4s 8ms/step - loss: 0.1707 - accuracy: 0.9527 - val_loss: 0.1715 - val_accuracy: 0.9498\n",
            "Epoch 32/100\n",
            "469/469 [==============================] - 5s 10ms/step - loss: 0.1676 - accuracy: 0.9535 - val_loss: 0.1688 - val_accuracy: 0.9507\n",
            "Epoch 33/100\n",
            "469/469 [==============================] - 4s 9ms/step - loss: 0.1647 - accuracy: 0.9544 - val_loss: 0.1662 - val_accuracy: 0.9520\n",
            "Epoch 34/100\n",
            "469/469 [==============================] - 4s 9ms/step - loss: 0.1619 - accuracy: 0.9553 - val_loss: 0.1642 - val_accuracy: 0.9524\n",
            "Epoch 35/100\n",
            "469/469 [==============================] - 5s 10ms/step - loss: 0.1592 - accuracy: 0.9562 - val_loss: 0.1610 - val_accuracy: 0.9526\n",
            "Epoch 36/100\n",
            "469/469 [==============================] - 4s 9ms/step - loss: 0.1566 - accuracy: 0.9567 - val_loss: 0.1592 - val_accuracy: 0.9534\n",
            "Epoch 37/100\n",
            "469/469 [==============================] - 4s 8ms/step - loss: 0.1540 - accuracy: 0.9578 - val_loss: 0.1579 - val_accuracy: 0.9543\n",
            "Epoch 38/100\n",
            "469/469 [==============================] - 6s 12ms/step - loss: 0.1516 - accuracy: 0.9588 - val_loss: 0.1551 - val_accuracy: 0.9544\n",
            "Epoch 39/100\n",
            "469/469 [==============================] - 4s 10ms/step - loss: 0.1491 - accuracy: 0.9588 - val_loss: 0.1527 - val_accuracy: 0.9546\n",
            "Epoch 40/100\n",
            "469/469 [==============================] - 4s 9ms/step - loss: 0.1467 - accuracy: 0.9597 - val_loss: 0.1512 - val_accuracy: 0.9559\n",
            "Epoch 41/100\n",
            "469/469 [==============================] - 4s 9ms/step - loss: 0.1446 - accuracy: 0.9603 - val_loss: 0.1494 - val_accuracy: 0.9558\n",
            "Epoch 42/100\n",
            "469/469 [==============================] - 4s 9ms/step - loss: 0.1424 - accuracy: 0.9612 - val_loss: 0.1468 - val_accuracy: 0.9563\n",
            "Epoch 43/100\n",
            "469/469 [==============================] - 5s 10ms/step - loss: 0.1402 - accuracy: 0.9617 - val_loss: 0.1447 - val_accuracy: 0.9568\n",
            "Epoch 44/100\n",
            "469/469 [==============================] - 5s 10ms/step - loss: 0.1382 - accuracy: 0.9622 - val_loss: 0.1433 - val_accuracy: 0.9579\n",
            "Epoch 45/100\n",
            "469/469 [==============================] - 4s 8ms/step - loss: 0.1361 - accuracy: 0.9629 - val_loss: 0.1410 - val_accuracy: 0.9582\n",
            "Epoch 46/100\n",
            "469/469 [==============================] - 5s 10ms/step - loss: 0.1342 - accuracy: 0.9634 - val_loss: 0.1396 - val_accuracy: 0.9580\n",
            "Epoch 47/100\n",
            "469/469 [==============================] - 4s 9ms/step - loss: 0.1323 - accuracy: 0.9638 - val_loss: 0.1383 - val_accuracy: 0.9592\n",
            "Epoch 48/100\n",
            "469/469 [==============================] - 4s 8ms/step - loss: 0.1304 - accuracy: 0.9645 - val_loss: 0.1366 - val_accuracy: 0.9590\n",
            "Epoch 49/100\n",
            "469/469 [==============================] - 5s 10ms/step - loss: 0.1286 - accuracy: 0.9650 - val_loss: 0.1351 - val_accuracy: 0.9599\n",
            "Epoch 50/100\n",
            "469/469 [==============================] - 4s 9ms/step - loss: 0.1268 - accuracy: 0.9655 - val_loss: 0.1338 - val_accuracy: 0.9605\n",
            "Epoch 51/100\n",
            "469/469 [==============================] - 4s 8ms/step - loss: 0.1251 - accuracy: 0.9661 - val_loss: 0.1327 - val_accuracy: 0.9614\n",
            "Epoch 52/100\n",
            "469/469 [==============================] - 5s 10ms/step - loss: 0.1234 - accuracy: 0.9666 - val_loss: 0.1306 - val_accuracy: 0.9614\n",
            "Epoch 53/100\n",
            "469/469 [==============================] - 4s 9ms/step - loss: 0.1218 - accuracy: 0.9670 - val_loss: 0.1287 - val_accuracy: 0.9627\n",
            "Epoch 54/100\n",
            "469/469 [==============================] - 4s 8ms/step - loss: 0.1202 - accuracy: 0.9674 - val_loss: 0.1276 - val_accuracy: 0.9631\n",
            "Epoch 55/100\n",
            "469/469 [==============================] - 5s 10ms/step - loss: 0.1186 - accuracy: 0.9678 - val_loss: 0.1265 - val_accuracy: 0.9639\n",
            "Epoch 56/100\n",
            "469/469 [==============================] - 4s 9ms/step - loss: 0.1171 - accuracy: 0.9683 - val_loss: 0.1257 - val_accuracy: 0.9642\n",
            "Epoch 57/100\n",
            "469/469 [==============================] - 4s 9ms/step - loss: 0.1156 - accuracy: 0.9687 - val_loss: 0.1243 - val_accuracy: 0.9642\n",
            "Epoch 58/100\n",
            "469/469 [==============================] - 5s 11ms/step - loss: 0.1141 - accuracy: 0.9693 - val_loss: 0.1229 - val_accuracy: 0.9647\n",
            "Epoch 59/100\n",
            "469/469 [==============================] - 4s 8ms/step - loss: 0.1127 - accuracy: 0.9695 - val_loss: 0.1218 - val_accuracy: 0.9648\n",
            "Epoch 60/100\n",
            "469/469 [==============================] - 4s 8ms/step - loss: 0.1113 - accuracy: 0.9698 - val_loss: 0.1206 - val_accuracy: 0.9652\n",
            "Epoch 61/100\n",
            "469/469 [==============================] - 5s 11ms/step - loss: 0.1100 - accuracy: 0.9704 - val_loss: 0.1195 - val_accuracy: 0.9656\n",
            "Epoch 62/100\n",
            "469/469 [==============================] - 4s 8ms/step - loss: 0.1086 - accuracy: 0.9707 - val_loss: 0.1191 - val_accuracy: 0.9653\n",
            "Epoch 63/100\n",
            "469/469 [==============================] - 4s 9ms/step - loss: 0.1074 - accuracy: 0.9711 - val_loss: 0.1173 - val_accuracy: 0.9659\n",
            "Epoch 64/100\n",
            "469/469 [==============================] - 5s 11ms/step - loss: 0.1060 - accuracy: 0.9713 - val_loss: 0.1163 - val_accuracy: 0.9661\n",
            "Epoch 65/100\n",
            "469/469 [==============================] - 4s 8ms/step - loss: 0.1048 - accuracy: 0.9718 - val_loss: 0.1154 - val_accuracy: 0.9662\n",
            "Epoch 66/100\n",
            "469/469 [==============================] - 4s 8ms/step - loss: 0.1037 - accuracy: 0.9722 - val_loss: 0.1144 - val_accuracy: 0.9667\n",
            "Epoch 67/100\n",
            "469/469 [==============================] - 5s 11ms/step - loss: 0.1023 - accuracy: 0.9725 - val_loss: 0.1141 - val_accuracy: 0.9670\n",
            "Epoch 68/100\n",
            "469/469 [==============================] - 4s 8ms/step - loss: 0.1012 - accuracy: 0.9730 - val_loss: 0.1135 - val_accuracy: 0.9675\n",
            "Epoch 69/100\n",
            "469/469 [==============================] - 4s 9ms/step - loss: 0.1001 - accuracy: 0.9732 - val_loss: 0.1115 - val_accuracy: 0.9677\n",
            "Epoch 70/100\n",
            "469/469 [==============================] - 5s 11ms/step - loss: 0.0989 - accuracy: 0.9733 - val_loss: 0.1107 - val_accuracy: 0.9683\n",
            "Epoch 71/100\n",
            "469/469 [==============================] - 4s 9ms/step - loss: 0.0979 - accuracy: 0.9740 - val_loss: 0.1098 - val_accuracy: 0.9683\n",
            "Epoch 72/100\n",
            "469/469 [==============================] - 4s 8ms/step - loss: 0.0968 - accuracy: 0.9743 - val_loss: 0.1087 - val_accuracy: 0.9680\n",
            "Epoch 73/100\n",
            "469/469 [==============================] - 5s 11ms/step - loss: 0.0957 - accuracy: 0.9746 - val_loss: 0.1081 - val_accuracy: 0.9685\n",
            "Epoch 74/100\n",
            "469/469 [==============================] - 4s 8ms/step - loss: 0.0947 - accuracy: 0.9749 - val_loss: 0.1079 - val_accuracy: 0.9687\n",
            "Epoch 75/100\n",
            "469/469 [==============================] - 4s 8ms/step - loss: 0.0937 - accuracy: 0.9751 - val_loss: 0.1066 - val_accuracy: 0.9689\n",
            "Epoch 76/100\n",
            "469/469 [==============================] - 5s 11ms/step - loss: 0.0927 - accuracy: 0.9754 - val_loss: 0.1057 - val_accuracy: 0.9692\n",
            "Epoch 77/100\n",
            "469/469 [==============================] - 4s 8ms/step - loss: 0.0917 - accuracy: 0.9756 - val_loss: 0.1052 - val_accuracy: 0.9698\n",
            "Epoch 78/100\n",
            "469/469 [==============================] - 4s 8ms/step - loss: 0.0907 - accuracy: 0.9759 - val_loss: 0.1044 - val_accuracy: 0.9697\n",
            "Epoch 79/100\n",
            "469/469 [==============================] - 5s 10ms/step - loss: 0.0898 - accuracy: 0.9762 - val_loss: 0.1036 - val_accuracy: 0.9704\n",
            "Epoch 80/100\n",
            "469/469 [==============================] - 4s 8ms/step - loss: 0.0889 - accuracy: 0.9762 - val_loss: 0.1028 - val_accuracy: 0.9705\n",
            "Epoch 81/100\n",
            "469/469 [==============================] - 4s 8ms/step - loss: 0.0879 - accuracy: 0.9768 - val_loss: 0.1022 - val_accuracy: 0.9708\n",
            "Epoch 82/100\n",
            "469/469 [==============================] - 5s 11ms/step - loss: 0.0871 - accuracy: 0.9771 - val_loss: 0.1014 - val_accuracy: 0.9702\n",
            "Epoch 83/100\n",
            "469/469 [==============================] - 4s 8ms/step - loss: 0.0862 - accuracy: 0.9771 - val_loss: 0.1006 - val_accuracy: 0.9714\n",
            "Epoch 84/100\n",
            "469/469 [==============================] - 5s 11ms/step - loss: 0.0854 - accuracy: 0.9772 - val_loss: 0.1002 - val_accuracy: 0.9715\n",
            "Epoch 85/100\n",
            "469/469 [==============================] - 4s 9ms/step - loss: 0.0845 - accuracy: 0.9779 - val_loss: 0.0997 - val_accuracy: 0.9713\n",
            "Epoch 86/100\n",
            "469/469 [==============================] - 4s 9ms/step - loss: 0.0837 - accuracy: 0.9776 - val_loss: 0.0989 - val_accuracy: 0.9713\n",
            "Epoch 87/100\n",
            "469/469 [==============================] - 4s 9ms/step - loss: 0.0829 - accuracy: 0.9782 - val_loss: 0.0982 - val_accuracy: 0.9714\n",
            "Epoch 88/100\n",
            "469/469 [==============================] - 4s 9ms/step - loss: 0.0821 - accuracy: 0.9783 - val_loss: 0.0980 - val_accuracy: 0.9717\n",
            "Epoch 89/100\n",
            "469/469 [==============================] - 4s 8ms/step - loss: 0.0813 - accuracy: 0.9785 - val_loss: 0.0971 - val_accuracy: 0.9717\n",
            "Epoch 90/100\n",
            "469/469 [==============================] - 4s 9ms/step - loss: 0.0805 - accuracy: 0.9789 - val_loss: 0.0968 - val_accuracy: 0.9719\n",
            "Epoch 91/100\n",
            "469/469 [==============================] - 4s 9ms/step - loss: 0.0798 - accuracy: 0.9790 - val_loss: 0.0961 - val_accuracy: 0.9723\n",
            "Epoch 92/100\n",
            "469/469 [==============================] - 4s 8ms/step - loss: 0.0791 - accuracy: 0.9791 - val_loss: 0.0955 - val_accuracy: 0.9721\n",
            "Epoch 93/100\n",
            "469/469 [==============================] - 4s 9ms/step - loss: 0.0783 - accuracy: 0.9794 - val_loss: 0.0950 - val_accuracy: 0.9723\n",
            "Epoch 94/100\n",
            "469/469 [==============================] - 5s 10ms/step - loss: 0.0775 - accuracy: 0.9795 - val_loss: 0.0944 - val_accuracy: 0.9724\n",
            "Epoch 95/100\n",
            "469/469 [==============================] - 4s 8ms/step - loss: 0.0769 - accuracy: 0.9797 - val_loss: 0.0942 - val_accuracy: 0.9720\n",
            "Epoch 96/100\n",
            "469/469 [==============================] - 5s 10ms/step - loss: 0.0762 - accuracy: 0.9799 - val_loss: 0.0933 - val_accuracy: 0.9725\n",
            "Epoch 97/100\n",
            "469/469 [==============================] - 4s 9ms/step - loss: 0.0754 - accuracy: 0.9800 - val_loss: 0.0929 - val_accuracy: 0.9727\n",
            "Epoch 98/100\n",
            "469/469 [==============================] - 4s 8ms/step - loss: 0.0748 - accuracy: 0.9803 - val_loss: 0.0925 - val_accuracy: 0.9725\n",
            "Epoch 99/100\n",
            "469/469 [==============================] - 5s 10ms/step - loss: 0.0741 - accuracy: 0.9804 - val_loss: 0.0920 - val_accuracy: 0.9727\n",
            "Epoch 100/100\n",
            "469/469 [==============================] - 4s 9ms/step - loss: 0.0735 - accuracy: 0.9807 - val_loss: 0.0919 - val_accuracy: 0.9726\n"
          ]
        }
      ],
      "source": [
        "modelo=network.fit(train_images, train_labels, epochs=100, batch_size=128,validation_data=(test_images,test_labels))"
      ]
    },
    {
      "cell_type": "code",
      "execution_count": null,
      "metadata": {
        "colab": {
          "base_uri": "https://localhost:8080/",
          "height": 945
        },
        "id": "yQGBK5rolhz3",
        "outputId": "dc4ef31c-137c-4a83-e363-c29820ee8470"
      },
      "outputs": [
        {
          "output_type": "stream",
          "name": "stdout",
          "text": [
            "dict_keys(['loss', 'accuracy', 'val_loss', 'val_accuracy'])\n"
          ]
        },
        {
          "output_type": "display_data",
          "data": {
            "text/plain": [
              "<Figure size 640x480 with 1 Axes>"
            ],
            "image/png": "[encoded data removed]"
          },
          "metadata": {}
        },
        {
          "output_type": "display_data",
          "data": {
            "text/plain": [
              "<Figure size 640x480 with 1 Axes>"
            ],
            "image/png": "[encoded data removed]"
          },
          "metadata": {}
        }
      ],
      "source": [
        "print(modelo.history.keys())\n",
        "# summarize history for accuracy\n",
        "plt.plot(modelo.history['accuracy'])\n",
        "plt.plot(modelo.history['val_accuracy'])\n",
        "plt.title('model accuracy')\n",
        "plt.ylabel('accuracy')\n",
        "plt.xlabel('epoch')\n",
        "plt.legend(['train', 'test'], loc='upper left')\n",
        "plt.show()\n",
        "# summarize history for loss\n",
        "plt.plot(modelo.history['loss'])\n",
        "plt.plot(modelo.history['val_loss'])\n",
        "plt.title('model loss')\n",
        "plt.ylabel('loss')\n",
        "plt.xlabel('epoch')\n",
        "plt.legend(['train', 'test'], loc='upper left')\n",
        "plt.show()"
      ]
    },
    {
      "cell_type": "markdown",
      "metadata": {
        "id": "FS9G9N5N5HAD"
      },
      "source": [
        "Two quantities are being displayed during training: the \"loss\" of the network over the training data, and the accuracy of the network over\n",
        "the training data.\n",
        "\n",
        "We quickly reach an accuracy of 0.989 (i.e. 98.9%) on the training data. Now let's check that our model performs well on the test set too:"
      ]
    },
    {
      "cell_type": "code",
      "execution_count": null,
      "metadata": {
        "id": "IKD1FqV35HAF",
        "outputId": "a853d596-9e6b-4219-b23e-9793ac773924",
        "colab": {
          "base_uri": "https://localhost:8080/"
        }
      },
      "outputs": [
        {
          "output_type": "stream",
          "name": "stdout",
          "text": [
            "313/313 [==============================] - 1s 3ms/step - loss: 0.0919 - accuracy: 0.9726\n"
          ]
        }
      ],
      "source": [
        "test_loss, test_acc = network.evaluate(test_images, test_labels)"
      ]
    },
    {
      "cell_type": "code",
      "execution_count": null,
      "metadata": {
        "id": "1eIIilF-5HAH",
        "outputId": "888ee2fe-124f-488d-fbe7-0fc34edbd356",
        "colab": {
          "base_uri": "https://localhost:8080/"
        }
      },
      "outputs": [
        {
          "output_type": "stream",
          "name": "stdout",
          "text": [
            "test_acc: 0.972599983215332\n"
          ]
        }
      ],
      "source": [
        "print('test_acc:', test_acc)"
      ]
    },
    {
      "cell_type": "markdown",
      "metadata": {
        "id": "uvo5vhra5HAJ"
      },
      "source": [
        "\n",
        "Our test set accuracy turns out to be 97.8% -- that's quite a bit lower than the training set accuracy.\n",
        "This gap between training accuracy and test accuracy is an example of \"overfitting\",\n",
        "the fact that machine learning models tend to perform worse on new data than on their training data.\n",
        "Overfitting will be a central topic in chapter 3.\n",
        "\n",
        "This concludes our very first example -- you just saw how we could build and a train a neural network to classify handwritten digits, in\n",
        "less than 20 lines of Python code. In the next chapter, we will go in detail over every moving piece we just previewed, and clarify what is really\n",
        "going on behind the scenes. You will learn about \"tensors\", the data-storing objects going into the network, about tensor operations, which\n",
        "layers are made of, and about gradient descent, which allows our network to learn from its training examples."
      ]
    },
    {
      "cell_type": "markdown",
      "metadata": {
        "id": "iqizwZQgEHMs"
      },
      "source": [
        "###YOUR TURN\n",
        "Create other Dense layers playing with the number of units and layers.\n",
        "Observe accuracy and loss to evaluate your model.\n",
        "Plot your curves"
      ]
    }
  ],
  "metadata": {
    "colab": {
      "provenance": []
    },
    "kernelspec": {
      "display_name": "TimeSeries",
      "language": "python",
      "name": "timeseries"
    },
    "language_info": {
      "codemirror_mode": {
        "name": "ipython",
        "version": 3
      },
      "file_extension": ".py",
      "mimetype": "text/x-python",
      "name": "python",
      "nbconvert_exporter": "python",
      "pygments_lexer": "ipython3",
      "version": "3.8.5"
    }
  },
  "nbformat": 4,
  "nbformat_minor": 0
}
